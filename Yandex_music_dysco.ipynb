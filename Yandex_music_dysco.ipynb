{
 "cells": [
  {
   "cell_type": "markdown",
   "id": "2a4e4dec",
   "metadata": {},
   "source": [
    "### В данном файле представлена эволюция кода, способного включить  трек в отдельном окне браузера "
   ]
  },
  {
   "cell_type": "code",
   "execution_count": 1,
   "id": "cb1f0471",
   "metadata": {},
   "outputs": [],
   "source": [
    "from selenium.webdriver import Chrome\n",
    "from selenium import webdriver\n",
    "from selenium.webdriver.common.keys import Keys\n",
    "from time import sleep\n",
    "import requests\n",
    "from bs4 import BeautifulSoup\n",
    "from secrets import LOGIN, PASSWORD\n",
    "from yandex_music.client import Client"
   ]
  },
  {
   "cell_type": "code",
   "execution_count": 2,
   "id": "f9de595c",
   "metadata": {},
   "outputs": [],
   "source": [
    "import sys\n",
    "import warnings\n",
    "\n",
    "if not sys.warnoptions:\n",
    "    warnings.simplefilter(\"ignore\")"
   ]
  },
  {
   "cell_type": "code",
   "execution_count": 3,
   "id": "2e4c9e32",
   "metadata": {},
   "outputs": [],
   "source": [
    "options = webdriver.ChromeOptions()\n",
    "#changing user-agent\n",
    "# options.add_argument(\"user-agent=Hello_World\")\n",
    "# make it human\n",
    "options.add_argument(\"--disable-blink-features=AutomationControlled\")\n",
    "# headless mode\n",
    "options.add_argument(\"--headless\")"
   ]
  },
  {
   "cell_type": "code",
   "execution_count": 4,
   "id": "6e5835c7",
   "metadata": {},
   "outputs": [],
   "source": [
    "BROWSER_PATH = 'C:\\\\Users\\\\Mans\\\\Selenium_Chrome_driver\\\\chromedriver.exe'\n",
    "song_name = \"Saturday Sun\"\n",
    "group_name = \"Vans Joy\""
   ]
  },
  {
   "cell_type": "markdown",
   "id": "05a2665a",
   "metadata": {},
   "source": [
    "# Подрубим МузЫку"
   ]
  },
  {
   "cell_type": "code",
   "execution_count": 5,
   "id": "9df0972a",
   "metadata": {},
   "outputs": [],
   "source": [
    "#Первая версия\n",
    "\n",
    "def yandex_music_dycso(BROWSER_PATH, options, song_name, group_name, listening_time_in_seconds):\n",
    "    browser = Chrome(BROWSER_PATH, options = options)\n",
    "    AUTH_YANDEX = 'https://passport.yandex.ru/auth?origin=music_button-header&retpath=https%3A%2F%2Fmusic.yandex.ru%2Fsettings%3Freqid%3D78228071216395328171774754244012171%26from-passport'\n",
    "\n",
    "    #Открываем сайт авторизации    \n",
    "    browser.get(AUTH_YANDEX)\n",
    "    browser.implicitly_wait(3)\n",
    "\n",
    "    print(\"Passing through authentication...\")\n",
    "    #Вводим логин    \n",
    "    browser.find_element_by_xpath('//*[@id=\"passp-field-login\"]').clear()\n",
    "    browser.find_element_by_xpath('//*[@id=\"passp-field-login\"]').send_keys(LOGIN)\n",
    "    browser.find_element_by_xpath('//*[@id=\"passp-field-login\"]').send_keys(Keys.ENTER)\n",
    "    browser.implicitly_wait(3)\n",
    "\n",
    "    #Вводим пароль\n",
    "    browser.find_element_by_xpath('//*[@id=\"passp-field-passwd\"]').clear()\n",
    "    browser.find_element_by_xpath('//*[@id=\"passp-field-passwd\"]').send_keys(PASSWORD)\n",
    "    browser.find_element_by_xpath('//*[@id=\"passp-field-passwd\"]').send_keys(Keys.ENTER)\n",
    "    browser.implicitly_wait(3)\n",
    "\n",
    "    #Закроем рекламу\n",
    "    browser.find_element_by_xpath('/html/body/div[1]/div[16]/div/div/div[2]/div/div[1]/div/div[2]/span').click()\n",
    "    browser.implicitly_wait(3)\n",
    "    print(\"Inputing song name ang group... \")\n",
    "    \n",
    "    #Откроем панель поиска песен\n",
    "    browser.find_element_by_xpath(\"/html/body/div[1]/div[7]/div/div/div[2]/div[2]/div/div[1]/button\").click()\n",
    "    browser.implicitly_wait(3)\n",
    "    \n",
    "    #Очистим панель, на всякий случай\n",
    "    browser.find_element_by_xpath('/html/body/div[1]/div[7]/div/div/div[2]/div[2]/div/div[2]/div[1]/input').clear()\n",
    "    \n",
    "    #Введем название нужного трека и группы\n",
    "    browser.find_element_by_xpath('/html/body/div[1]/div[7]/div/div/div[2]/div[2]/div/div[2]/div[1]/input').send_keys(song_name + \" \" + group_name)\n",
    "    browser.find_element_by_xpath('/html/body/div[1]/div[7]/div/div/div[2]/div[2]/div/div[2]/div[1]/input').send_keys(Keys.ENTER)\n",
    "    browser.implicitly_wait(10)\n",
    "    print(\"Pushing the button...\")\n",
    "    \n",
    "#     Нажмем Play\n",
    "    browser.find_element_by_xpath('/html/body/div[1]/div[9]/div[2]/div/div/div[2]/div[2]/div[1]/div[2]/div[1]/div[1]/a').click()\n",
    "    browser.implicitly_wait(10)\n",
    "    browser.find_element_by_xpath(\"/html/body/div[1]/div[9]/div[2]/div/div/div[1]/div[2]/div[2]/div/button\").click()\n",
    "              \n",
    "    print(\"Listening...\")\n",
    "    sleep(listening_time_in_seconds)"
   ]
  },
  {
   "cell_type": "code",
   "execution_count": 12,
   "id": "192b4856",
   "metadata": {},
   "outputs": [],
   "source": [
    "#Часть обновленных версий, запись файлов cookie\n",
    "\n",
    "def get_yandex_cookie(BROWSER_PATH, options):\n",
    "    browser = Chrome(BROWSER_PATH, options = options)\n",
    "    AUTH_YANDEX = 'https://passport.yandex.ru/auth?origin=music_button-header&retpath=https%3A%2F%2Fmusic.yandex.ru%2Fsettings%3Freqid%3D78228071216395328171774754244012171%26from-passport'\n",
    "\n",
    "    #Открываем сайт авторизации    \n",
    "    browser.get(AUTH_YANDEX)\n",
    "    browser.implicitly_wait(3)\n",
    "\n",
    "    print(\"Passing through authentication...\")\n",
    "    #Вводим логин    \n",
    "    browser.find_element_by_xpath('//*[@id=\"passp-field-login\"]').clear()\n",
    "    browser.find_element_by_xpath('//*[@id=\"passp-field-login\"]').send_keys(LOGIN)\n",
    "    browser.find_element_by_xpath('//*[@id=\"passp-field-login\"]').send_keys(Keys.ENTER)\n",
    "    browser.implicitly_wait(3)\n",
    "\n",
    "    #Вводим пароль\n",
    "    browser.find_element_by_xpath('//*[@id=\"passp-field-passwd\"]').clear()\n",
    "    browser.find_element_by_xpath('//*[@id=\"passp-field-passwd\"]').send_keys(PASSWORD)\n",
    "    browser.find_element_by_xpath('//*[@id=\"passp-field-passwd\"]').send_keys(Keys.ENTER)\n",
    "    browser.implicitly_wait(3)\n",
    "\n",
    "    #Закроем рекламу\n",
    "    browser.find_element_by_xpath('/html/body/div[1]/div[16]/div/div/div[2]/div/div[1]/div/div[2]/span').click()\n",
    "    browser.implicitly_wait(3)\n",
    "    print(\"Getting our cookies... \")\n",
    "    \n",
    "    #Запишем cookie в переменную cookies\n",
    "    cookies = browser.get_cookies()\n",
    "    print(\"Complete\")\n",
    "    \n",
    "    return cookies \n",
    "    "
   ]
  },
  {
   "cell_type": "code",
   "execution_count": 13,
   "id": "c23ffda6",
   "metadata": {
    "scrolled": false
   },
   "outputs": [
    {
     "name": "stdout",
     "output_type": "stream",
     "text": [
      "Passing through authentication...\n",
      "Getting our cookies... \n",
      "Complete\n"
     ]
    }
   ],
   "source": [
    "cookies = get_yandex_cookie(BROWSER_PATH, options)"
   ]
  },
  {
   "cell_type": "code",
   "execution_count": 7,
   "id": "89a2ab25",
   "metadata": {},
   "outputs": [],
   "source": [
    "#Вторая версия (ограниченная)\n",
    "\n",
    "def dycso(BROWSER_PATH, options, cookies, song_name, group_name, listening_time_in_seconds):\n",
    "    browser = Chrome(BROWSER_PATH, options = options)\n",
    "    browser.get('https://music.yandex.ru/home')\n",
    "    print(\"Adding our cookies... \")\n",
    "    \n",
    "    #Воспользуемся cookie для ускорения авторизации\n",
    "    for cookie in cookies:\n",
    "        browser.add_cookie(cookie)\n",
    "    browser.implicitly_wait(10)\n",
    "    \n",
    "    #Обновим окно браузера\n",
    "    browser.refresh()\n",
    "    browser.implicitly_wait(10)\n",
    "    \n",
    "    #Закроем рекламу\n",
    "    browser.find_element_by_xpath('/html/body/div[1]/div[16]/div/div/div[2]/div/div[1]/div/div[2]/span').click()\n",
    "    browser.implicitly_wait(10)\n",
    "    print(\"Inputing song name ang group... \")\n",
    "    \n",
    "    #Откроем панель поиска песен\n",
    "    browser.find_element_by_xpath(\"/html/body/div[1]/div[7]/div/div/div[2]/div[2]/div/div[1]/button\").click()\n",
    "    browser.implicitly_wait(10)\n",
    "    \n",
    "    #Очистим панель, на всякий случай\n",
    "    browser.find_element_by_xpath('/html/body/div[1]/div[7]/div/div/div[2]/div[2]/div/div[2]/div[1]/input').clear()\n",
    "    \n",
    "    #Введем название нужного трека и группы\n",
    "    browser.find_element_by_xpath('/html/body/div[1]/div[7]/div/div/div[2]/div[2]/div/div[2]/div[1]/input').send_keys(song_name + \" \" + group_name)\n",
    "    browser.find_element_by_xpath('/html/body/div[1]/div[7]/div/div/div[2]/div[2]/div/div[2]/div[1]/input').send_keys(Keys.ENTER)\n",
    "    browser.implicitly_wait(15)\n",
    "    print(\"Pushing the button...\")\n",
    "\n",
    "           \n",
    "    #Нажмем PLAY\n",
    "    browser.find_element_by_xpath('/html/body/div[1]/div[9]/div[2]/div/div/div[3]/div[2]/div[1]/div[2]/div[1]/div[1]/a').click()\n",
    "    browser.implicitly_wait(10)\n",
    "    browser.find_element_by_xpath('/html/body/div[1]/div[9]/div[3]/div/div[3]/div/div[1]/div[2]/span[1]/button/span/span').click()\n",
    "    \n",
    "    #Время прослушивания\n",
    "    sleep(listening_time_in_seconds)\n"
   ]
  },
  {
   "cell_type": "markdown",
   "id": "0779d1ec",
   "metadata": {},
   "source": [
    "#### Данная версия кода (dysco) способна достаточно быстро включить один выбранный трек, однако в ходе теста было выявлено, что каждый раз необходимо корректировать код, чтобы запустить любой другой. "
   ]
  },
  {
   "cell_type": "code",
   "execution_count": 51,
   "id": "1736c693",
   "metadata": {},
   "outputs": [],
   "source": [
    "dycso(BROWSER_PATH, options, cookies, song_name, group_name, 10)"
   ]
  },
  {
   "cell_type": "code",
   "execution_count": 6,
   "id": "3f3acd89",
   "metadata": {},
   "outputs": [],
   "source": [
    "# Последняя версия кода, костыль в качестве\n",
    "\n",
    "def yandex_music_dysco(BROWSER_PATH, options, cookies, song_name, group_name):\n",
    "    browser = Chrome(BROWSER_PATH, options = options)\n",
    "    browser.get(f'https://music.yandex.ru/home')\n",
    "    print(\"Adding our cookies... \")\n",
    "    \n",
    "    #Воспользуемся cookie для ускорения авторизации\n",
    "    for cookie in cookies:\n",
    "        browser.add_cookie(cookie)\n",
    "    browser.implicitly_wait(10)\n",
    "         \n",
    "    r = requests.get(f'https://music.yandex.ru/search?text={song_name}%20{group_name}')\n",
    "    soup = BeautifulSoup(r.text)\n",
    "    track_link = soup.find('a', class_='d-track__title').get('href')\n",
    "    \n",
    "    browser.get(f'https://music.yandex.ru/{track_link}')\n",
    "    browser.implicitly_wait(10)       \n",
    "    browser.find_element_by_xpath('/html/body/div[1]/div[16]/div/div/div[2]/div/div[1]/div/div[2]/span').click()\n",
    "    \n",
    "    browser.implicitly_wait(10)       \n",
    "    browser.find_element_by_xpath('/html/body/div[1]/div[9]/div[3]/div/div[3]/div/div[1]/div[2]/span[1]/button').click()\n",
    "    \n",
    "    #Время прослушивания\n",
    "    client = Client.from_credentials(LOGIN, PASSWORD)\n",
    "    track_time = client.tracks([track_link.split(sep = '/')[-1]])[0]['duration_ms']/1000\n",
    "    sleep(track_time)\n",
    "\n",
    "    "
   ]
  },
  {
   "cell_type": "code",
   "execution_count": 26,
   "id": "50d53a05",
   "metadata": {},
   "outputs": [
    {
     "name": "stdout",
     "output_type": "stream",
     "text": [
      "Adding our cookies... \n"
     ]
    },
    {
     "name": "stderr",
     "output_type": "stream",
     "text": [
      "Found unknown fields received from API! Please copy warn message and send to https://bit.ly/3dsFxyH (github issue), thank you!\n",
      "Type: <class 'yandex_music.account.subscription.Subscription'>; kwargs: {'had_any_subscription': False}\n",
      "Found unknown fields received from API! Please copy warn message and send to https://bit.ly/3dsFxyH (github issue), thank you!\n",
      "Type: <class 'yandex_music.account.status.Status'>; kwargs: {'pretrial_active': False, 'masterhub': {'active_subscriptions': [], 'available_subscriptions': []}, 'userhash': '77cf97eb113f89ae86b725aa994e7826f7382a7eb544fb0786a977162d7f72ae'}\n",
      "Found unknown fields received from API! Please copy warn message and send to https://bit.ly/3dsFxyH (github issue), thank you!\n",
      "Type: <class 'yandex_music.track.track.Track'>; kwargs: {'r128': {'i': -6.58, 'tp': 1.49}, 'track_sharing_flag': 'VIDEO_ALLOWED', 'player_id': 'vdN-7Sjhg1C8'}\n"
     ]
    }
   ],
   "source": [
    "yandex_music_dysco(BROWSER_PATH, options, cookies, \"Believer\", 'Imagine Dragons')"
   ]
  },
  {
   "cell_type": "markdown",
   "id": "77d1cb09",
   "metadata": {},
   "source": [
    "# Speed test"
   ]
  },
  {
   "cell_type": "code",
   "execution_count": 82,
   "id": "e01f5b56",
   "metadata": {},
   "outputs": [],
   "source": [
    "from datetime import datetime"
   ]
  },
  {
   "cell_type": "code",
   "execution_count": 83,
   "id": "66f59724",
   "metadata": {},
   "outputs": [
    {
     "ename": "TypeError",
     "evalue": "yandex_music_dysco() takes 5 positional arguments but 6 were given",
     "output_type": "error",
     "traceback": [
      "\u001b[1;31m---------------------------------------------------------------------------\u001b[0m",
      "\u001b[1;31mTypeError\u001b[0m                                 Traceback (most recent call last)",
      "\u001b[1;32m<ipython-input-83-c1b75d2affe0>\u001b[0m in \u001b[0;36m<module>\u001b[1;34m\u001b[0m\n\u001b[0;32m      1\u001b[0m \u001b[0mstart_time\u001b[0m \u001b[1;33m=\u001b[0m \u001b[0mdatetime\u001b[0m\u001b[1;33m.\u001b[0m\u001b[0mnow\u001b[0m\u001b[1;33m(\u001b[0m\u001b[1;33m)\u001b[0m\u001b[1;33m\u001b[0m\u001b[1;33m\u001b[0m\u001b[0m\n\u001b[0;32m      2\u001b[0m \u001b[1;33m\u001b[0m\u001b[0m\n\u001b[1;32m----> 3\u001b[1;33m \u001b[0myandex_music_dysco\u001b[0m\u001b[1;33m(\u001b[0m\u001b[0mBROWSER_PATH\u001b[0m\u001b[1;33m,\u001b[0m \u001b[0moptions\u001b[0m\u001b[1;33m,\u001b[0m \u001b[0mcookies\u001b[0m\u001b[1;33m,\u001b[0m  \u001b[0msong_name\u001b[0m\u001b[1;33m,\u001b[0m \u001b[0mgroup_name\u001b[0m\u001b[1;33m,\u001b[0m \u001b[1;36m0\u001b[0m\u001b[1;33m)\u001b[0m\u001b[1;33m\u001b[0m\u001b[1;33m\u001b[0m\u001b[0m\n\u001b[0m\u001b[0;32m      4\u001b[0m \u001b[1;33m\u001b[0m\u001b[0m\n\u001b[0;32m      5\u001b[0m \u001b[0mfinish_time\u001b[0m \u001b[1;33m=\u001b[0m \u001b[0mdatetime\u001b[0m\u001b[1;33m.\u001b[0m\u001b[0mnow\u001b[0m\u001b[1;33m(\u001b[0m\u001b[1;33m)\u001b[0m\u001b[1;33m\u001b[0m\u001b[1;33m\u001b[0m\u001b[0m\n",
      "\u001b[1;31mTypeError\u001b[0m: yandex_music_dysco() takes 5 positional arguments but 6 were given"
     ]
    }
   ],
   "source": [
    "start_time = datetime.now()\n",
    "\n",
    "yandex_music_dysco(BROWSER_PATH, options, cookies,  song_name, group_name)\n",
    "\n",
    "finish_time = datetime.now()"
   ]
  },
  {
   "cell_type": "code",
   "execution_count": 16,
   "id": "159b3411",
   "metadata": {},
   "outputs": [
    {
     "name": "stdout",
     "output_type": "stream",
     "text": [
      "0:00:12.726497\n"
     ]
    }
   ],
   "source": [
    "spent_time = finish_time - start_time\n",
    "print(spent_time)"
   ]
  },
  {
   "cell_type": "code",
   "execution_count": 16,
   "id": "90b4b94e",
   "metadata": {},
   "outputs": [
    {
     "name": "stdout",
     "output_type": "stream",
     "text": [
      "Adding our cookies... \n",
      "Adding our cookies... \n",
      "Adding our cookies... \n",
      "Adding our cookies... \n",
      "Adding our cookies... \n",
      "Adding our cookies... \n",
      "Adding our cookies... \n",
      "Adding our cookies... \n",
      "14.4 s ± 1.7 s per loop (mean ± std. dev. of 7 runs, 1 loop each)\n"
     ]
    }
   ],
   "source": [
    "%%timeit\n",
    "yandex_music_dysco(BROWSER_PATH, options, cookies, song_name, group_name)"
   ]
  },
  {
   "cell_type": "code",
   "execution_count": 9,
   "id": "44500e3b",
   "metadata": {},
   "outputs": [],
   "source": [
    "from line_profiler import LineProfiler"
   ]
  },
  {
   "cell_type": "code",
   "execution_count": 14,
   "id": "5ef3904a",
   "metadata": {},
   "outputs": [
    {
     "name": "stdout",
     "output_type": "stream",
     "text": [
      "Adding our cookies... \n",
      "Timer unit: 1e-07 s\n",
      "\n"
     ]
    }
   ],
   "source": [
    "profile = LineProfiler(yandex_music_dysco(BROWSER_PATH, options, cookies, song_name, group_name))\n",
    "profile.print_stats()"
   ]
  }
 ],
 "metadata": {
  "kernelspec": {
   "display_name": "Python 3",
   "language": "python",
   "name": "python3"
  },
  "language_info": {
   "codemirror_mode": {
    "name": "ipython",
    "version": 3
   },
   "file_extension": ".py",
   "mimetype": "text/x-python",
   "name": "python",
   "nbconvert_exporter": "python",
   "pygments_lexer": "ipython3",
   "version": "3.8.8"
  }
 },
 "nbformat": 4,
 "nbformat_minor": 5
}
